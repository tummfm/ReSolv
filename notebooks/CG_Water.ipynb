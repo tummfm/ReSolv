{
 "cells": [
  {
   "cell_type": "markdown",
   "metadata": {
    "pycharm": {
     "name": "#%% md\n"
    }
   },
   "source": [
    "# Top-down learning a GNN potential for coarse-grained water\n",
    "\n",
    "In this notebook, we will learn a graph neural network (GNN) potential for\n",
    "coarse-grained water from experimental data.\n",
    "The coarse-grained particle will represent the oxygen atom of atomistic water.\n",
    "Analogous to the diamond example, we will directly apply the DiffTRe library\n",
    "without looking under its hood. We define all components necessary to\n",
    "initialize DiffTRe: experimental data, simulation box, GNN potential with\n",
    "prior, simulator, loss function and optimizer."
   ]
  },
  {
   "cell_type": "code",
   "execution_count": null,
   "metadata": {},
   "outputs": [],
   "source": [
    "from chemtrain import difftre\n",
    "from chemtrain.jax_md_mod import io, custom_quantity, custom_space, \\\n",
    "    custom_energy, custom_simulator\n",
    "from jax_md import space, partition, simulate\n",
    "import optax\n",
    "import jax.numpy as jnp\n",
    "from jax import random, checkpoint\n",
    "import numpy as np\n",
    "from scipy import interpolate as sci_interpolate\n",
    "import matplotlib.pyplot as plt\n",
    "from functools import partial\n",
    "import pickle\n",
    "import warnings\n",
    "warnings.filterwarnings('ignore')  # disable warnings about float64 usage\n",
    "\n",
    "optimization_pickle_file_path = 'saved_models/CG_water_GNN.pkl'\n",
    "long_traj_pickle_file_path = 'saved_optimization_results/CG_water_long_traj.pkl'"
   ]
  },
  {
   "cell_type": "markdown",
   "metadata": {},
   "source": [
    "### Experimental observables\n",
    "\n",
    "Let's start by defining target observables. For top-down coarse-graining,\n",
    "we choose experimental data from the paper _Quantum Differences between\n",
    "Heavy and Light Water_\n",
    "[(Soper and Benmore, 2008)](https://doi.org/10.1103/PhysRevLett.101.065502).\n",
    "Specifically, we want to match the oxygen-oxygen radial distribution function\n",
    "(RDF), the oxygen-oxygen-oxygen angular distribution function (ADF), and a\n",
    "pressure of 1 bar."
   ]
  },
  {
   "cell_type": "code",
   "execution_count": null,
   "metadata": {
    "pycharm": {
     "name": "#%%\n"
    }
   },
   "outputs": [],
   "source": [
    "pressure_conversion = 16.6054  # from kJ/mol nm^-3 to bar\n",
    "pressure_target = 1. / pressure_conversion  # 1 bar in kJ / mol nm^3\n",
    "\n",
    "# O-O RDF\n",
    "rdf_bin_centers, rdf_bin_boundaries, sigma_RDF = \\\n",
    "    custom_quantity.rdf_discretization(RDF_cut=1.0)  # cut RDF at 1nm\n",
    "reference_rdf = np.loadtxt('../examples/data/experimental/O_O_RDF.csv')\n",
    "rdf_spline = sci_interpolate.interp1d(reference_rdf[:, 0],\n",
    "                                      reference_rdf[:, 1],\n",
    "                                      kind='cubic')\n",
    "reference_rdf = rdf_spline(rdf_bin_centers)\n",
    "rdf_struct = custom_quantity.RDFParams(reference_rdf,\n",
    "                                       rdf_bin_centers,\n",
    "                                       rdf_bin_boundaries,\n",
    "                                       sigma_RDF)\n",
    "\n",
    "# O-O-O ADF\n",
    "adf_bin_centers, sigma_ADF = custom_quantity.adf_discretization(nbins=200)\n",
    "reference_adf = np.loadtxt('../examples/data/experimental/O_O_O_ADF.csv')\n",
    "adf_spline = sci_interpolate.interp1d(reference_adf[:, 0],\n",
    "                                      reference_adf[:, 1],\n",
    "                                      kind='cubic')\n",
    "reference_adf = adf_spline(adf_bin_centers)\n",
    "# only triplets within 0.318 nm are considered, consistent with experimental data\n",
    "adf_struct = custom_quantity.ADFParams(reference_adf,\n",
    "                                       adf_bin_centers,\n",
    "                                       sigma_ADF,\n",
    "                                       r_outer=0.318,\n",
    "                                       r_inner=0.)\n",
    "\n",
    "target_dict = {'rdf': rdf_struct,\n",
    "               'adf': adf_struct,\n",
    "               'pressure': pressure_target}"
   ]
  },
  {
   "cell_type": "markdown",
   "metadata": {},
   "source": [
    "### Simulation setup\n",
    "\n",
    "Next, we define the simulation parameters.\n",
    "Temperature and density are already determined by the experiment."
   ]
  },
  {
   "cell_type": "code",
   "execution_count": null,
   "metadata": {
    "pycharm": {
     "name": "#%%\n"
    }
   },
   "outputs": [],
   "source": [
    "system_temperature = 296.15  # Kelvin = 23 deg. Celsius\n",
    "Boltzmann_constant = 0.0083145107  # in kJ / mol K\n",
    "kbT = system_temperature * Boltzmann_constant\n",
    "\n",
    "file = '../examples/data/confs/Water_experimental_3nm.gro'  # 901 particles\n",
    "R_init, box = io.load_box(file)  # initial configuration\n",
    "N = R_init.shape[0]\n",
    "\n",
    "mass = 18.0154  # in u: O + 2 * H\n",
    "density = mass * N * 1.66054 / jnp.prod(box)\n",
    "print('Model Density:', density, 'g/l. Experimental density: 997.87 g/l')\n",
    "\n",
    "# simulation times in ps\n",
    "time_step = 0.002\n",
    "total_time = 70. \n",
    "t_equilib = 10.  # equilibration time: skip states before sampling observables\n",
    "print_every = 0.1  # save state every 0.1 ps for computation of averages\n",
    "timings_struct = custom_simulator.process_printouts(time_step, total_time,\n",
    "                                                    t_equilib, print_every)\n",
    "\n",
    "# define displacement and shift functions from box: \n",
    "# use periodic_general as we take derivatives wrt. box for pressure\n",
    "box_tensor, scale_fn = custom_space.init_fractional_coordinates(box)\n",
    "R_init = scale_fn(R_init)\n",
    "displacement, shift = space.periodic_general(box_tensor)\n"
   ]
  },
  {
   "cell_type": "markdown",
   "metadata": {},
   "source": [
    "### GNN Potential\n",
    "\n",
    "Now we define the GNN as well as the prior potential. As our prior potential,\n",
    "we choose the repulsive part of the Lennard-Jones (LJ) potential.\n",
    "As the prior length scale $\\sigma$, we simply take the length scale of the\n",
    "LJ potential of the SPC water model $\\sigma=0.3165$ nm and set the energy\n",
    "scale to $\\epsilon = 1$ kJ / mol - reduced compared to the LJ potential as\n",
    "we neglect the attractive term.\n",
    "\n",
    "Both potentials are combined by adding the computed potential energy values.\n",
    "The `energy` function that sums both potentials is initialized by the\n",
    "`energy_fn_template`. The template enables updating GNN weights during\n",
    "optimization without compromising \"jitability\". You can define your own\n",
    "custom `energy_fn_template` following the in- and output signature shown below."
   ]
  },
  {
   "cell_type": "code",
   "execution_count": null,
   "metadata": {
    "pycharm": {
     "name": "#%%\n"
    }
   },
   "outputs": [],
   "source": [
    "# define random seed for initialization of model and simulation\n",
    "key = random.PRNGKey(0)\n",
    "model_init_key, simuation_init_key = random.split(key, 2)\n",
    "\n",
    "r_cut = 0.5\n",
    "\n",
    "# create neighbor list: also works with cell list.\n",
    "# num of neighbors can be increased, but does not change much\n",
    "neighbor_fn = partition.neighbor_list(displacement, box[0], r_cut,\n",
    "                                      dr_threshold=0.05,\n",
    "                                      capacity_multiplier=1.5,\n",
    "                                      fractional_coordinates=True)\n",
    "nbrs_init = neighbor_fn(R_init)\n",
    "\n",
    "prior_fn = custom_energy.\\\n",
    "    generic_repulsion_neighborlist(displacement,\n",
    "                                   sigma=0.3165,\n",
    "                                   epsilon=1.,\n",
    "                                   exp=12,\n",
    "                                   initialize_neighbor_list=False)\n",
    "\n",
    "init_fn, GNN_energy = custom_energy.DimeNetPP_neighborlist(displacement,\n",
    "                                                           R_init,\n",
    "                                                           nbrs_init,\n",
    "                                                           r_cut)\n",
    "init_params = init_fn(model_init_key, R_init, neighbor=nbrs_init)\n",
    "\n",
    "def energy_fn_template(energy_params):\n",
    "    gnn_energy = partial(GNN_energy, energy_params)\n",
    "    def energy(R, neighbor, **dynamic_kwargs):\n",
    "        return gnn_energy(R, neighbor=neighbor, **dynamic_kwargs) + \\\n",
    "               prior_fn(R, neighbor=neighbor, **dynamic_kwargs)\n",
    "    return energy"
   ]
  },
  {
   "cell_type": "markdown",
   "metadata": {},
   "source": [
    "### Loss function\n",
    "\n",
    "As some observables depend on the potential (e.g. the pressure in this case),\n",
    "we need the `energy_fn_template` to define the loss function.\n",
    "`DiffTRe_init` builds a mean-squared-error (MSE) loss from a `quantity_dict`.\n",
    "Building the `quantity_dict` requires to define for each observable\n",
    "$O_k(S_i, U_{\\theta})$ a function to compute the respective\n",
    "observable for each state $S_i$, the corresponding target value, and a scale\n",
    "$\\gamma$ defining the relative importance\n",
    "of each observable in the loss (see examples below)."
   ]
  },
  {
   "cell_type": "code",
   "execution_count": null,
   "metadata": {
    "pycharm": {
     "name": "#%%\n"
    }
   },
   "outputs": [],
   "source": [
    "quantity_dict = {}\n",
    "if 'rdf' in target_dict:\n",
    "    rdf_struct = target_dict['rdf']\n",
    "    rdf_fn = custom_quantity.initialize_radial_distribution_fun(box_tensor,\n",
    "                                                                displacement,\n",
    "                                                                rdf_struct)\n",
    "    rdf_dict = {'compute_fn': checkpoint(rdf_fn),\n",
    "                'target': rdf_struct.reference_rdf, 'gamma': 1.}\n",
    "    quantity_dict['rdf'] = rdf_dict\n",
    "if 'adf' in target_dict:\n",
    "    adf_struct = target_dict['adf']\n",
    "    adf_fn = custom_quantity.\\\n",
    "        initialize_angle_distribution_neighborlist(displacement,\n",
    "                                                   adf_struct,\n",
    "                                                   R_init=R_init,\n",
    "                                                   nbrs_init=nbrs_init)\n",
    "    adf_target_dict = {'compute_fn': checkpoint(adf_fn),\n",
    "                       'target': adf_struct.reference_adf, 'gamma': 1.}\n",
    "    quantity_dict['adf'] = adf_target_dict\n",
    "if 'pressure' in target_dict:\n",
    "    pressure_fn = custom_quantity.init_pressure(energy_fn_template, box_tensor)\n",
    "    pressure_target_dict = {'compute_fn': checkpoint(pressure_fn),\n",
    "                            'target': target_dict['pressure'], 'gamma': 1.e-7}\n",
    "    quantity_dict['pressure'] = pressure_target_dict"
   ]
  },
  {
   "cell_type": "markdown",
   "metadata": {},
   "source": [
    "### Simulator\n",
    "\n",
    "Now we define the simulator used to generate reference trajectories.\n",
    "Similar to the `energy_fn_template`, the `simulator_template` takes the\n",
    "current potential energy function and returns a corresponding NVT simulator.\n",
    "This is achieved by simply \"baking in\" all constant simulation parameters via\n",
    "`partial`. For this example, we select a Nose-Hoover thermostat with a chain\n",
    "length of 5. With a given simulator, we generate the initial simulation state\n",
    "from which the first trajectory is sampled."
   ]
  },
  {
   "cell_type": "code",
   "execution_count": null,
   "metadata": {
    "pycharm": {
     "name": "#%%\n"
    }
   },
   "outputs": [],
   "source": [
    "energy_fn_init = energy_fn_template(init_params)\n",
    "simulator_template = partial(simulate.nvt_nose_hoover, shift_fn=shift,\n",
    "                             dt=time_step, kT=kbT, chain_length=5,\n",
    "                             chain_steps=1)\n",
    "init, _ = simulator_template(energy_fn_init)\n",
    "state = init(simuation_init_key, R_init, mass=mass, neighbor=nbrs_init)\n",
    "init_sim_state = (state, nbrs_init)"
   ]
  },
  {
   "cell_type": "markdown",
   "metadata": {
    "pycharm": {
     "name": "#%% md\n"
    }
   },
   "source": [
    "### Optimizer\n",
    "\n",
    "We use an Adam optimizer with exponential learning rate decay."
   ]
  },
  {
   "cell_type": "code",
   "execution_count": null,
   "metadata": {
    "pycharm": {
     "name": "#%%\n"
    }
   },
   "outputs": [],
   "source": [
    "num_updates = 300\n",
    "initial_lr = 0.003\n",
    "lr_schedule = optax.exponential_decay(-initial_lr, 200, 0.01)\n",
    "optimizer = optax.chain(\n",
    "    optax.scale_by_adam(0.1, 0.4),\n",
    "    optax.scale_by_schedule(lr_schedule)\n",
    ")\n"
   ]
  },
  {
   "cell_type": "markdown",
   "metadata": {},
   "source": [
    "### Initialize DiffTRe\n",
    "\n",
    "With all individual components defined, we can initialize the DiffTRe trainer."
   ]
  },
  {
   "cell_type": "code",
   "execution_count": null,
   "metadata": {
    "pycharm": {
     "name": "#%%\n"
    }
   },
   "outputs": [],
   "source": [
    "trainer = difftre.Trainer(init_params, quantity_dict, simulator_template,\n",
    "                          energy_fn_template, neighbor_fn, init_sim_state,\n",
    "                          timings_struct, optimizer, kbT)"
   ]
  },
  {
   "cell_type": "markdown",
   "metadata": {
    "pycharm": {
     "name": "#%% md\n"
    }
   },
   "source": [
    "### Learning the GNN potential\n",
    "\n",
    "The optimization takes several hours. You can skip it and load the trained\n",
    "model in the next cell."
   ]
  },
  {
   "cell_type": "code",
   "execution_count": null,
   "metadata": {
    "pycharm": {
     "is_executing": true,
     "name": "#%%\n"
    }
   },
   "outputs": [],
   "source": [
    "trainer.train(num_updates)\n",
    "\n",
    "trainer.save_trainer(optimization_pickle_file_path)"
   ]
  },
  {
   "cell_type": "code",
   "execution_count": null,
   "metadata": {
    "pycharm": {
     "name": "#%%\n"
    }
   },
   "outputs": [],
   "source": [
    "# load results if necessary\n",
    "trainer = difftre.Trainer.load_trainer(optimization_pickle_file_path)"
   ]
  },
  {
   "cell_type": "markdown",
   "metadata": {},
   "source": [
    "## Visualize training process\n",
    "\n",
    "To assess convergence, we can visualize the loss and compute-time per update.\n",
    "In the beginning, recomputation of the reference trajectory is necessary at\n",
    "each update, due to large parameter updates. Later, with decreased step sizes,\n",
    "reference trajectories can be re-used frequently, resulting in a significant\n",
    "speed-up as only the reweighting step and the gradient need to be computed."
   ]
  },
  {
   "cell_type": "code",
   "execution_count": null,
   "metadata": {
    "pycharm": {
     "name": "#%%\n"
    }
   },
   "outputs": [],
   "source": [
    "fig, ax1 = plt.subplots()\n",
    "ax1.set_xlabel('Update Step')\n",
    "ax1.set_ylabel('MSE Loss')\n",
    "ax1.semilogy(trainer.losses, color='#3c5488ff', label='Loss')\n",
    "ax2 = ax1.twinx()\n",
    "ax2.plot(trainer.update_times, label='Time per update', color='#4dbbd5ff')\n",
    "ax2.set_ylabel('$t$ in s')\n",
    "fig.legend(loc=\"upper right\", bbox_to_anchor=(0.38,0.2),\n",
    "           bbox_transform=ax1.transAxes)\n",
    "plt.savefig('Train_history_CG_water.png')\n",
    "plt.show()"
   ]
  },
  {
   "cell_type": "markdown",
   "metadata": {},
   "source": [
    "Next, we visualize convergence of target observables."
   ]
  },
  {
   "cell_type": "code",
   "execution_count": null,
   "metadata": {
    "pycharm": {
     "name": "#%%\n"
    }
   },
   "outputs": [],
   "source": [
    "predicted_quantities = trainer.predictions\n",
    "fig, (ax1, ax2, ax3) = plt.subplots(1, 3, figsize=(16, 4))\n",
    "\n",
    "if 'rdf' in predicted_quantities[0]:\n",
    "    rdf_series = [prediction_dict['rdf'] for prediction_dict in\n",
    "                  predicted_quantities]\n",
    "\n",
    "    ax1.set_xlabel('$r$ in nm')\n",
    "    ax1.set_ylabel('RDF')\n",
    "    ax1.plot(rdf_bin_centers, rdf_series[0], label='initial guess',\n",
    "             color='#00a087ff')\n",
    "    ax1.plot(rdf_bin_centers, rdf_series[-1], label='predicted',\n",
    "             color='#3c5488ff')\n",
    "    ax1.plot(rdf_bin_centers, reference_rdf, label='target', linestyle='--',\n",
    "             color='k')\n",
    "    ax1.legend()\n",
    "\n",
    "\n",
    "if 'adf' in predicted_quantities[0]:\n",
    "    adf_series = [prediction_dict['adf'] for prediction_dict in\n",
    "                  predicted_quantities]\n",
    "\n",
    "    ax2.set_xlabel(r'$\\alpha$ in rad')\n",
    "    ax2.set_ylabel('ADF')\n",
    "    ax2.plot(adf_bin_centers, adf_series[0], label='initial guess',\n",
    "             color='#00a087ff')\n",
    "    ax2.plot(adf_bin_centers, adf_series[-1], label='predicted',\n",
    "             color='#3c5488ff')\n",
    "    ax2.plot(adf_bin_centers, reference_adf, label='target', linestyle='--',\n",
    "             color='k')\n",
    "    ax2.legend(loc=1)\n",
    "\n",
    "if 'pressure' in predicted_quantities[0]:\n",
    "    pressure_series = [prediction_dict['pressure'] for prediction_dict in\n",
    "                       predicted_quantities]\n",
    "\n",
    "    ax3.set_xlabel('Update Step')\n",
    "    ax3.set_ylabel('$p$ in $\\mathrm{kJ / mol nm^3}$')\n",
    "    ax3.plot(pressure_series, label='predicted', color='#3c5488ff')\n",
    "    ax3.axhline(y=pressure_target, linestyle='--', color='k', label='target')\n",
    "    ax3.legend()\n",
    "    print('Pressure final epoch:', pressure_series[-1], 'kJ / mol nm^3')\n",
    "\n",
    "plt.savefig('Predicted_CG_water_properties.png')\n",
    "plt.show()"
   ]
  },
  {
   "cell_type": "markdown",
   "metadata": {},
   "source": [
    "## Validate results\n",
    "\n",
    "Given that we've trained the model on rather short trajectories, let's\n",
    "validate the model on a longer trajectory. This allows to detect if the\n",
    "model overfitted to initial conditions or drifts away from the targets."
   ]
  },
  {
   "cell_type": "code",
   "execution_count": null,
   "metadata": {
    "pycharm": {
     "name": "#%%\n"
    }
   },
   "outputs": [],
   "source": [
    "total_time_long = 11000.  # 11 ns\n",
    "t_equilib_long = 1000.  # 1 ns\n",
    "long_trajectory_struct = custom_simulator.process_printouts(time_step,\n",
    "                                                            total_time_long,\n",
    "                                                            t_equilib_long,\n",
    "                                                            print_every)\n",
    "\n",
    "trajectory_generator = custom_simulator.trajectory_generator_init(simulator_template,\n",
    "                                                                  energy_fn_template,\n",
    "                                                                  neighbor_fn,\n",
    "                                                                  long_trajectory_struct)\n",
    "long_traj_state = trajectory_generator(trainer.params, init_sim_state)\n",
    "quantity_traj = difftre.quantity_traj(long_traj_state, quantity_dict,\n",
    "                                      neighbor_fn, trainer.params)\n",
    "\n",
    "long_traj_rdf = jnp.mean(quantity_traj['rdf'], axis=0)\n",
    "long_traj_adf = jnp.mean(quantity_traj['adf'], axis=0)\n",
    "long_traj_press = jnp.mean(quantity_traj['pressure'], axis=0)\n",
    "\n",
    "with open(long_traj_pickle_file_path, 'wb') as f:\n",
    "    pickle.dump([long_traj_rdf, long_traj_adf, long_traj_press], f)"
   ]
  },
  {
   "cell_type": "code",
   "execution_count": null,
   "metadata": {
    "pycharm": {
     "name": "#%%\n"
    }
   },
   "outputs": [],
   "source": [
    "# you can skip the long run above and just load results\n",
    "long_traj_rdf, long_traj_adf, long_traj_press = \\\n",
    "    pickle.load(open(long_traj_pickle_file_path, \"rb\" ))"
   ]
  },
  {
   "cell_type": "markdown",
   "metadata": {},
   "source": [
    "Comparing results from the long trajectory with our targets confirms that\n",
    "training was successful."
   ]
  },
  {
   "cell_type": "code",
   "execution_count": null,
   "metadata": {},
   "outputs": [],
   "source": [
    "print('Prediced pressure:', long_traj_press, 'kJ / mol nm^3; Target:',\n",
    "      pressure_target, 'kJ / mol nm^3')\n",
    "\n",
    "fig, (ax1, ax2) = plt.subplots(1, 2, figsize=(10, 4), dpi=300)\n",
    "\n",
    "ax1.set_xlabel('$r$ in nm')\n",
    "ax1.set_ylabel('RDF')\n",
    "ax1.plot(rdf_bin_centers, long_traj_rdf, label='predicted', color='#3c5488ff')\n",
    "ax1.plot(rdf_bin_centers, reference_rdf, label='target', linestyle='--',\n",
    "         color='k')\n",
    "ax1.legend()\n",
    "\n",
    "ax2.set_xlabel(r'$\\alpha$ in rad')\n",
    "ax2.set_ylabel('ADF')\n",
    "ax2.plot(adf_bin_centers, long_traj_adf, label='predicted', color='#3c5488ff')\n",
    "ax2.plot(adf_bin_centers, reference_adf, label='target', linestyle='--',\n",
    "         color='k')\n",
    "ax2.legend(loc=1)\n",
    "\n",
    "plt.savefig('Predicted_water_properties_long_traj.png')\n",
    "plt.show()\n"
   ]
  },
  {
   "cell_type": "markdown",
   "metadata": {},
   "source": [
    "Additionally, we can verify the 3-body structure by computing the tetrahedral\n",
    "order parameter $q$ and comparing it to the experiment."
   ]
  },
  {
   "cell_type": "code",
   "execution_count": null,
   "metadata": {
    "pycharm": {
     "name": "#%%\n"
    }
   },
   "outputs": [],
   "source": [
    "q_fn = custom_quantity.init_tetrahedral_order_parameter(displacement)\n",
    "q_dict = {'compute_fn': q_fn}\n",
    "quantity_dict = {'q': q_dict}\n",
    "\n",
    "quantity_traj = difftre.quantity_traj(long_traj_state, quantity_dict,\n",
    "                                      neighbor_fn, trainer.params)\n",
    "q_average = jnp.mean(quantity_traj['q'], axis=0)\n",
    "\n",
    "print('Tetrahedal order parameter Model: q =', q_average,\n",
    "      '. Experiment: q = 0.576')"
   ]
  }
 ],
 "metadata": {
  "kernelspec": {
   "display_name": "Python 3 (ipykernel)",
   "language": "python",
   "name": "python3"
  },
  "language_info": {
   "codemirror_mode": {
    "name": "ipython",
    "version": 3
   },
   "file_extension": ".py",
   "mimetype": "text/x-python",
   "name": "python",
   "nbconvert_exporter": "python",
   "pygments_lexer": "ipython3",
   "version": "3.8.12"
  }
 },
 "nbformat": 4,
 "nbformat_minor": 1
}