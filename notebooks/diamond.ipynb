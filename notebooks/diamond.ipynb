{
 "cells": [
  {
   "cell_type": "markdown",
   "metadata": {
    "pycharm": {
     "name": "#%% md\n"
    }
   },
   "source": [
    "# Learning a GNN potential for diamond\n",
    "\n",
    "In this notebook, we will learn a graph neural network (GNN) potential\n",
    "from experimental stiffness tensor data. We will directly apply the DiffTRe\n",
    "library. If you are interested in the working mechanisms of DiffTRe,\n",
    "please have a look at the double well notebook.\n",
    "\n",
    "We will define all components necessary to initialize DiffTRe:\n",
    "experimental data, simulation box, GNN potential with prior, simulator,\n",
    "loss function and optimizer.\n"
   ]
  },
  {
   "cell_type": "code",
   "execution_count": null,
   "metadata": {},
   "outputs": [],
   "source": [
    "import os\n",
    "os.environ[\"CUDA_VISIBLE_DEVICES\"] = str(1)\n",
    "from chemtrain.jax_md_mod import io, custom_space, custom_energy, \\\n",
    "    custom_quantity, custom_simulator\n",
    "from chemtrain import difftre\n",
    "from jax_md import partition, simulate, space\n",
    "import optax\n",
    "from jax import random, checkpoint\n",
    "import jax.numpy as jnp\n",
    "from functools import partial\n",
    "import matplotlib.pyplot as plt\n",
    "import pickle\n",
    "import warnings\n",
    "warnings.filterwarnings('ignore')  # disable warnings about float64 usage\n",
    "\n",
    "optimization_pickle_file_path = 'saved_models/Diamond_GNN.pkl'\n",
    "long_traj_pickle_file_path = 'saved_optimization_results/Diamond_long_traj.pkl'"
   ]
  },
  {
   "cell_type": "markdown",
   "metadata": {
    "pycharm": {
     "name": "#%% md\n"
    }
   },
   "source": [
    "### Experimental observables\n",
    "\n",
    "It is often useful to start with the experimental target data. In this example,\n",
    "these are elastic stiffness tensor values from an experiment conducted in the\n",
    "paper _The Elastic Stiffness Moduli of Diamond_\n",
    "[(McSkimin et. al., 1972)](https://doi.org/10.1063/1.1661318).\n",
    "Due to symmetries in cubic crystals, the stiffness tensor consists of three\n",
    "distinct stiffness moduli $c_{11}$, $c_{12}$ and $c_{44}$\n",
    " (in Voigt notation).</br> In the un-strained state, we assume the crystal to\n",
    " be in a stress-free state. The second target observable is therefore an\n",
    " initial stress tensor of $\\mathbf{0}$."
   ]
  },
  {
   "cell_type": "code",
   "execution_count": null,
   "metadata": {
    "pycharm": {
     "name": "#%%\n"
    }
   },
   "outputs": [],
   "source": [
    "c_11_target = 1079.  # in GPa\n",
    "c_12_target = 124.\n",
    "c_44_target = 578.\n",
    "\n",
    "convert_from_GPa_to_kJ_mol_nm_3 = 10**3 / 1.66054\n",
    "stiffness_targets = jnp.array([c_11_target, c_12_target, c_44_target]) * \\\n",
    "                    convert_from_GPa_to_kJ_mol_nm_3\n",
    "\n",
    "target_dict = {'stress': jnp.zeros((3, 3)), 'stiffness': stiffness_targets}"
   ]
  },
  {
   "cell_type": "markdown",
   "metadata": {
    "pycharm": {
     "name": "#%% md\n"
    }
   },
   "source": [
    "### Simulation setup\n",
    "\n",
    "Next, we need to define the parameters of the simulation.\n",
    "Some of these parameters are already defined by the experiment, e.g. temperature and density of the material during\n",
    "the experiment."
   ]
  },
  {
   "cell_type": "code",
   "execution_count": null,
   "metadata": {
    "pycharm": {
     "name": "#%%\n"
    }
   },
   "outputs": [],
   "source": [
    "system_temperature = 298.15  # Kelvin = 25 deg. celsius\n",
    "Boltzmann_constant = 0.0083145107  # in kJ / mol K\n",
    "kbT = system_temperature * Boltzmann_constant\n",
    "\n",
    "experimental_density = 3512  # kg / m^3\n",
    "mass = 12.011  # mass of carbon atoms in u\n",
    "\n",
    "file_loc = '../examples/data/confs/Diamond.pdb'\n",
    "R_init, box = io.load_box(file_loc)  # initial configuration of diamond crystal\n",
    "N = R_init.shape[0]\n",
    "density = mass * N * 1.66054 / jnp.prod(box)\n",
    "# adjust box size to experiment\n",
    "box *= (density / experimental_density) ** (1 / 3)\n",
    "density = mass * N * 1.66054 / jnp.prod(box)\n",
    "print('Model Density:', density, 'kg/m^3. Experimental density:', experimental_density, 'kg/m^3')\n",
    "\n",
    "# simulation times in ps\n",
    "dt = 0.5e-3\n",
    "total_time = 70.\n",
    "t_equilib = 10.  # discard all states within the first 5 ps as equilibration\n",
    "print_every = 0.025  # save states every 0.1 ps for use in averaging\n",
    "timing_struct = custom_simulator.process_printouts(dt, total_time,\n",
    "                                                   t_equilib, print_every)\n",
    "\n",
    "# we need to take derivatives wrt. the simulation box to compute the\n",
    "# stiffness tensor we therefore use a differentiable box in fractal\n",
    "# coordinates: all atom positions are mapped onto a unit cube\n",
    "box_tensor, scale_fn = custom_space.init_fractional_coordinates(box)\n",
    "R_init = scale_fn(R_init)\n",
    "displacement, shift = space.periodic_general(box_tensor)"
   ]
  },
  {
   "cell_type": "markdown",
   "metadata": {
    "pycharm": {
     "name": "#%% md\n"
    }
   },
   "source": [
    "### GNN Potential\n",
    "\n",
    "Now we define the GNN as well as the prior potential functioning as an\n",
    "advantageous starting point for the optimization. As prior potential,\n",
    "we select the Stillinger-Weber potential originally developed for silicon\n",
    "and only roughly adjust the length scale $\\sigma$ and energy scale $\\epsilon$\n",
    "such that it is compatible with diamond. After defining both potentials,\n",
    "we can combine them by simply adding computed potential energy values.\n",
    "This is done inside the `energy_fn_template` defining a combined `energy`\n",
    "function from the current GNN weights. This scheme enables updating GNN\n",
    "weights during the optimization without compromising \"jitability\".\n",
    "You can define a custom template by creating a function that takes current\n",
    "learnable weights and returns a corresponding `energy_fn`."
   ]
  },
  {
   "cell_type": "code",
   "execution_count": null,
   "metadata": {
    "pycharm": {
     "name": "#%%\n"
    }
   },
   "outputs": [],
   "source": [
    "# define random seed for initialization of model and simulation\n",
    "key = random.PRNGKey(0)\n",
    "model_init_key, simuation_init_key = random.split(key, 2)\n",
    "\n",
    "# prior parameters\n",
    "sigma = 0.14  # nm\n",
    "eps = 200  # kJ / mol\n",
    "r_cut_SW = sigma * 1.8  # a = 1.8 in original SW potential\n",
    "r_cut_NN = 0.2\n",
    "\n",
    "# we use the same neighbor list for prior and GNN to avoid keeping track\n",
    "# of 2 separate lists\n",
    "r_cut_nbrs = max(r_cut_SW, r_cut_NN)\n",
    "neighbor_fn = partition.neighbor_list(displacement, box[0], r_cut_nbrs,\n",
    "                                      dr_threshold=0.05,\n",
    "                                      capacity_multiplier=1.5,\n",
    "                                      fractional_coordinates=True)\n",
    "nbrs_init = neighbor_fn(R_init)\n",
    "\n",
    "init_fn, GNN_energy = custom_energy.DimeNetPP_neighborlist(displacement,\n",
    "                                                           R_init,\n",
    "                                                           nbrs_init,\n",
    "                                                           r_cut_NN)\n",
    "init_params = init_fn(model_init_key, R_init, neighbor=nbrs_init)\n",
    "\n",
    "prior_fn = custom_energy.\\\n",
    "    stillinger_weber_neighborlist(displacement,\n",
    "                                  cutoff=r_cut_SW,\n",
    "                                  sigma=sigma,\n",
    "                                  epsilon=eps,\n",
    "                                  initialize_neighbor_list=False)\n",
    "\n",
    "def energy_fn_template(energy_params):\n",
    "    gnn_energy = partial(GNN_energy, energy_params)\n",
    "    def energy(R, neighbor, **dynamic_kwargs):\n",
    "        return gnn_energy(R, neighbor=neighbor, **dynamic_kwargs) + \\\n",
    "               prior_fn(R, neighbor=neighbor, **dynamic_kwargs)\n",
    "    return energy"
   ]
  },
  {
   "cell_type": "markdown",
   "metadata": {},
   "source": [
    "### Loss function\n",
    "After defining the `energy_fn_template`, we can define the loss function.\n",
    "We compute the stiffness tensor via the 'stress-fluctuation method',\n",
    "where multiple instantaneous quantities need to be combined:\n",
    "$C_{ijkl} = \\langle C^B_{ijkl} \\rangle - \\frac{V}{k_B T}\\left(\\langle\n",
    "\\sigma^B_{ij} \\sigma^B_{kl} \\rangle - \\langle \\sigma^B_{ij} \\rangle \\langle\n",
    "\\sigma^B_{kl} \\rangle\\right) + \\frac{N k_B T}{V}\\left( \\delta_{ik} \\delta_{jl} +\n",
    "\\delta_{il} \\delta_{jk} \\right)$\n",
    "$\\mathrm{with} \\quad \\sigma^B_{ij} = \\frac{1}{V}\\frac{\\partial U}{\\partial\n",
    "\\epsilon_{ij}} \\ ; \\quad  C^B_{ijkl} = \\frac{1}{V}\\frac{\\partial^2 U}{\\partial\n",
    " \\epsilon_{ij} \\partial \\epsilon_{kl}}$\n",
    "\n",
    "We therefore need to compute instantaneous values of stresses $\\sigma_{ij}$,\n",
    "$\\sigma^B_{ij}$ and $C^B_{ijkl}$ and combine them to observables $\\langle\n",
    "\\sigma_{ij} \\rangle$ and $C_{ijkl}$. Therefore, we cannot use the default\n",
    "loss function in `DiffTRe_init` because it is only applicable to\n",
    "observables that are directly computed as averages of instantaneous quantities.\n",
    "\n",
    "We can compute instantaneous quantities from a trajectory via a `quantity_dict`.\n",
    "It requires for each instantaneous observable $O_k(S_i, U_{\\theta})$ a function\n",
    "to compute the respective observable for each state $S_i$.\n",
    "In the end, we combine loss contributions from stress and stiffness tensors by\n",
    "multiplication of each component with a scale $\\gamma$, which is useful to\n",
    "counteract the effect of different units / orders of magnitude of observables.\n",
    "\n",
    "When constructing a custom loss function, we need to adhere to the function\n",
    "signature required by the implementation of DiffTRe:\n",
    "`Loss_fn` takes as input the trajectory of computed instantaneous quantities\n",
    "saved in a dict under its respective key of the `quantitiy_dict`.\n",
    "Additionally, it receives corresponding weights $w_i$ to compute averages\n",
    "under the reweighting scheme. With these components, target observables can\n",
    "be computed. The output of the function is a tuple `(loss value, predicted\n",
    "ensemble averages)`. The latter is only necessary for post-processing of the\n",
    "optimization process. `loss_fn` below provides an example implementation."
   ]
  },
  {
   "cell_type": "code",
   "execution_count": null,
   "metadata": {
    "pycharm": {
     "name": "#%%\n"
    }
   },
   "outputs": [],
   "source": [
    "# initialize observable functions\n",
    "stress_fn = custom_quantity.init_virial_stress_tensor(energy_fn_template,\n",
    "                                                      box_tensor)\n",
    "\n",
    "born_stiffness_fn, sigma_born, sigma_tensor_prod, stiffness_tensor_fn = \\\n",
    "    custom_quantity.init_stiffness_tensor_stress_fluctuation(energy_fn_template,\n",
    "                                                             box_tensor, kbT, N)\n",
    "\n",
    "# add all functions that compute instantaneous values into quantity_dict\n",
    "# DiffTRe computes correspondig quantities for each state in the (sparse) trajectory\n",
    "# checkpoint is needed to avoid out-of-memory errors for expensive models, e.g.  GNNs\n",
    "quantity_dict = {}\n",
    "quantity_dict['stress'] = {'compute_fn': checkpoint(stress_fn)}\n",
    "quantity_dict['born_stiffness'] = {'compute_fn': checkpoint(born_stiffness_fn)}\n",
    "quantity_dict['born_stress'] = {'compute_fn': checkpoint(sigma_born)}\n",
    "\n",
    "gamma_stress = 5.e-8\n",
    "gamma_stiffness = 1.e-10\n",
    "\n",
    "def loss_fn(quantity_trajs, weights):\n",
    "    \n",
    "    def reweighting_average(quantity_snapshots):\n",
    "        weighted_snapshots = (quantity_snapshots.T * weights).T\n",
    "        return jnp.sum(weighted_snapshots, axis=0)\n",
    "    \n",
    "    # compute all contributions to stiffness tensor\n",
    "    born_stress_prod_snapshots = sigma_tensor_prod(quantity_trajs['born_stress'])\n",
    "    stress_product_born_mean = reweighting_average(born_stress_prod_snapshots)  # <sigma^B_ij sigma^B_kl>\n",
    "    born_stress_tensor_mean = reweighting_average(quantity_trajs['born_stress'])\n",
    "    born_stiffness_mean = reweighting_average(quantity_trajs['born_stiffness'])\n",
    "    stiffness_tensor = stiffness_tensor_fn(born_stiffness_mean,\n",
    "                                           born_stress_tensor_mean,\n",
    "                                           stress_product_born_mean)\n",
    "    \n",
    "    stiffness_pred = custom_quantity.\\\n",
    "        stiffness_tensor_components_cubic_crystal(stiffness_tensor)\n",
    "    stress_tensor_mean = reweighting_average(quantity_trajs['stress'])\n",
    "    \n",
    "    loss = gamma_stress * difftre.mse_loss(stress_tensor_mean, target_dict['stress']) + \\\n",
    "           gamma_stiffness * difftre.mse_loss(stiffness_pred, target_dict['stiffness'])\n",
    "\n",
    "    predictions = {'stress': stress_tensor_mean, 'stiffness': stiffness_pred}\n",
    "    \n",
    "    return loss, predictions\n"
   ]
  },
  {
   "cell_type": "markdown",
   "metadata": {
    "pycharm": {
     "name": "#%% md\n"
    }
   },
   "source": [
    "### Simulator\n",
    "\n",
    "Let's define a `simulator_template` taking the current potential energy\n",
    "function from the `energy_fn_template` as input and returning a NVT\n",
    "simulator for the current energy function. This is achieved by simply\n",
    "\"baking in\" all constant simulation parameters via `partial`. For this\n",
    "example, we select a Langevin thermostat. With a given simulator,\n",
    "we can generate the initial simulation state from which the first trajectory\n",
    "is sampled."
   ]
  },
  {
   "cell_type": "code",
   "execution_count": null,
   "metadata": {
    "pycharm": {
     "name": "#%%\n"
    }
   },
   "outputs": [],
   "source": [
    "energy_fn_init = energy_fn_template(init_params)\n",
    "simulator_template = partial(simulate.nvt_langevin, shift=shift, dt=dt, kT=kbT,\n",
    "                             gamma=4.)\n",
    "init, _ = simulator_template(energy_fn_init)\n",
    "state = init(simuation_init_key, R_init, mass=mass, neighbor=nbrs_init)\n",
    "# store neighbor list together with current simulation state\n",
    "init_sim_state = (state, nbrs_init)"
   ]
  },
  {
   "cell_type": "markdown",
   "metadata": {
    "pycharm": {
     "name": "#%% md\n"
    }
   },
   "source": [
    "### Optimizer\n",
    "\n",
    "The last missing component for DiffTRe is the optimizer. Here, we select an\n",
    "Adam optimizer with exponential learning rate decay."
   ]
  },
  {
   "cell_type": "code",
   "execution_count": null,
   "metadata": {
    "pycharm": {
     "name": "#%%\n"
    }
   },
   "outputs": [],
   "source": [
    "num_updates = 700\n",
    "initial_step_size = 0.002\n",
    "lr_schedule = optax.exponential_decay(-initial_step_size, 500, 0.01)\n",
    "optimizer = optax.chain(\n",
    "    optax.scale_by_adam(0.1, 0.4),\n",
    "    optax.scale_by_schedule(lr_schedule)\n",
    ")"
   ]
  },
  {
   "cell_type": "markdown",
   "metadata": {
    "pycharm": {
     "name": "#%% md\n"
    }
   },
   "source": [
    "### Initialize DiffTRe\n",
    "\n",
    "With all individual components defined, we can initialize the DiffTRe trainer."
   ]
  },
  {
   "cell_type": "code",
   "execution_count": null,
   "metadata": {
    "pycharm": {
     "name": "#%%\n"
    }
   },
   "outputs": [],
   "source": [
    "trainer = difftre.Trainer(init_params, quantity_dict, simulator_template,\n",
    "                          energy_fn_template, neighbor_fn, init_sim_state,\n",
    "                          timing_struct, optimizer, kbT, loss_fn=loss_fn)"
   ]
  },
  {
   "cell_type": "markdown",
   "metadata": {
    "pycharm": {
     "name": "#%% md\n"
    }
   },
   "source": [
    "### Learning the GNN potential\n",
    "\n",
    "This optimization takes some time. You can skip it and load our trained model\n",
    "in the next cell."
   ]
  },
  {
   "cell_type": "code",
   "execution_count": null,
   "metadata": {
    "pycharm": {
     "name": "#%%\n"
    }
   },
   "outputs": [],
   "source": [
    "trainer.train(num_updates)\n",
    "\n",
    "trainer.save_trainer(optimization_pickle_file_path)"
   ]
  },
  {
   "cell_type": "code",
   "execution_count": null,
   "metadata": {
    "pycharm": {
     "name": "#%%\n"
    }
   },
   "outputs": [],
   "source": [
    "# load results, if necessary\n",
    "trainer = difftre.Trainer.load_trainer(optimization_pickle_file_path)"
   ]
  },
  {
   "cell_type": "markdown",
   "metadata": {
    "pycharm": {
     "name": "#%% md\n"
    }
   },
   "source": [
    "## Visualize training process\n",
    "\n",
    "Let's start post-processing by plotting the loss and compute-time per update.\n",
    "In this application, most of the update steps do not require a re-computation\n",
    "of the trajectory, reducing computation time significantly.\n",
    "Computing the stiffness tensor is rather expensive. The speed-up that results\n",
    "from re-using reference trajectories is therefore reduced compared to\n",
    "cheap observables, e.g. RDFs."
   ]
  },
  {
   "cell_type": "code",
   "execution_count": null,
   "metadata": {
    "pycharm": {
     "name": "#%%\n"
    }
   },
   "outputs": [],
   "source": [
    "fig, ax1 = plt.subplots()\n",
    "ax1.set_xlabel('Update Step')\n",
    "ax1.set_ylabel('MSE Loss')\n",
    "ax1.semilogy(trainer.losses, color='#3c5488ff', label='Loss')\n",
    "ax2 = ax1.twinx()\n",
    "ax2.plot(trainer.update_times, label='Time per update', color='#4dbbd5ff')\n",
    "ax2.set_ylabel('$t$ in s')\n",
    "fig.legend(loc=\"upper right\", bbox_to_anchor=(1,1),\n",
    "           bbox_transform=ax1.transAxes)\n",
    "plt.savefig('Train_history_diamond.png')\n",
    "plt.show()\n"
   ]
  },
  {
   "cell_type": "markdown",
   "metadata": {
    "pycharm": {
     "name": "#%% md\n"
    }
   },
   "source": [
    "Next, we visualize convergence of our observables, the stress and stiffness\n",
    "tensor values."
   ]
  },
  {
   "cell_type": "code",
   "execution_count": null,
   "metadata": {
    "pycharm": {
     "name": "#%%\n"
    },
    "scrolled": true
   },
   "outputs": [],
   "source": [
    "predicted_quantities = trainer.predictions\n",
    "\n",
    "fig, ax = plt.subplots()\n",
    "ax.set_xlabel('Update Step')\n",
    "ax.set_ylabel('Hydrostatic stress in GPa')\n",
    "\n",
    "if 'stress' in predicted_quantities[0]:\n",
    "    pressure_series = [jnp.trace(prediction_dict['stress']) /\n",
    "                       convert_from_GPa_to_kJ_mol_nm_3 / 3. for\n",
    "                       prediction_dict in predicted_quantities]\n",
    "    ax.plot(pressure_series, label='$\\sigma_h$', color='#3c5488ff')\n",
    "    ax.axhline(y=0., linestyle='--', color='k')\n",
    "    print('Predicted stress tensor:', predicted_quantities[-1]['stress'] /\n",
    "          convert_from_GPa_to_kJ_mol_nm_3)\n",
    "\n",
    "if 'stiffness' in predicted_quantities[0]:\n",
    "    stiffness_list = [prediction_dict['stiffness'] for prediction_dict in\n",
    "                      predicted_quantities]\n",
    "    stiffness_array = jnp.stack(stiffness_list) / convert_from_GPa_to_kJ_mol_nm_3  # back to GPa\n",
    "    ax1 = ax.twinx()\n",
    "    ax1.set_ylabel('$C_{ij}$ in GPa')\n",
    "    ax1.set_ylim([0, 1200])\n",
    "    ax1.plot(stiffness_array[:, 0], label='$c_{11}$', color='#00a087ff')\n",
    "    ax1.plot(stiffness_array[:, 1], label='$c_{12}$', color='#91d1c2ff')\n",
    "    ax1.axhline(y=c_12_target, linestyle='--', color='k')\n",
    "    ax1.plot(stiffness_array[:, 2], label='$c_{44}$', color='#8491b4ff')\n",
    "    ax1.axhline(y=c_44_target, linestyle='--', color='k')\n",
    "    ax1.axhline(y=c_11_target, linestyle='--', label='targets', color='k')\n",
    "\n",
    "\n",
    "fig.legend(loc=\"lower right\", bbox_to_anchor=(1.4, 0.),\n",
    "           bbox_transform=ax1.transAxes)\n",
    "plt.savefig('Stress_stiffness_history.png')\n",
    "plt.show()"
   ]
  },
  {
   "cell_type": "markdown",
   "metadata": {
    "pycharm": {
     "name": "#%% md\n"
    }
   },
   "source": [
    "## Validate simulation results\n",
    "\n",
    "Given that we've trained the model on rather short trajectories, let's validate\n",
    "the model on a longer trajectory. This allows to detect if the model overfitted\n",
    "to initial conditions or drifts away from the targets."
   ]
  },
  {
   "cell_type": "code",
   "execution_count": null,
   "metadata": {
    "pycharm": {
     "name": "#%%\n"
    },
    "scrolled": true
   },
   "outputs": [],
   "source": [
    "total_time_long = 11000.  # 11 ns\n",
    "t_equilib_long = 1000.  # 1 ns\n",
    "\n",
    "\n",
    "long_trajectory_struct = custom_simulator.process_printouts(dt, total_time_long,\n",
    "                                                            t_equilib_long, print_every)\n",
    "trajectory_generator = custom_simulator.trajectory_generator_init(simulator_template,\n",
    "                                                                  energy_fn_template,\n",
    "                                                                  neighbor_fn,\n",
    "                                                                  long_trajectory_struct)\n",
    "long_traj_state = trajectory_generator(trainer.params, init_sim_state)\n",
    "quantity_traj = difftre.quantity_traj(long_traj_state, quantity_dict,\n",
    "                                      neighbor_fn, trainer.params)\n",
    "\n",
    "stress_tensor = jnp.mean(quantity_traj['stress'], axis=0)\n",
    "print('Predicted stress tensor:', stress_tensor /\n",
    "      convert_from_GPa_to_kJ_mol_nm_3)\n",
    "\n",
    "born_stress_prod_snapshots = sigma_tensor_prod(quantity_traj['born_stress'])\n",
    "stress_product_born_mean = jnp.mean(born_stress_prod_snapshots, axis=0)\n",
    "born_stress_tensor_mean = jnp.mean(quantity_traj['born_stress'], axis=0)\n",
    "born_stiffness_mean = jnp.mean(quantity_traj['born_stiffness'], axis=0)\n",
    "stiffness_tensor = stiffness_tensor_fn(born_stiffness_mean,\n",
    "                                       born_stress_tensor_mean,\n",
    "                                       stress_product_born_mean)\n",
    "\n",
    "stiffness_components = \\\n",
    "    custom_quantity.stiffness_tensor_components_cubic_crystal(stiffness_tensor)\n",
    "print('Predicted c_11:', stiffness_components[0] /\n",
    "      convert_from_GPa_to_kJ_mol_nm_3, 'GPa; Target:', c_11_target, 'GPa')\n",
    "print('Predicted c_12:', stiffness_components[1] /\n",
    "      convert_from_GPa_to_kJ_mol_nm_3, 'GPa; Target:', c_12_target, 'GPa')\n",
    "print('Predicted c_44:', stiffness_components[2] /\n",
    "      convert_from_GPa_to_kJ_mol_nm_3, 'GPa; Target:', c_44_target, 'GPa')\n",
    "\n",
    "\n",
    "with open(long_traj_pickle_file_path, 'wb') as f:\n",
    "    pickle.dump([stress_tensor, stiffness_components], f)"
   ]
  },
  {
   "cell_type": "code",
   "execution_count": null,
   "metadata": {
    "pycharm": {
     "name": "#%%\n"
    }
   },
   "outputs": [],
   "source": [
    "# you can skip the long run above and just load results\n",
    "stress_tensor, stiffness_components = \\\n",
    "    pickle.load(open(long_traj_pickle_file_path, \"rb\" ))"
   ]
  },
  {
   "cell_type": "code",
   "execution_count": null,
   "metadata": {
    "pycharm": {
     "name": "#%%\n"
    }
   },
   "outputs": [],
   "source": [
    "final_epoch = num_updates - 1\n",
    "x_position = [final_epoch for i in range(3)]\n",
    "stiffnesses_GPa = stiffness_components / convert_from_GPa_to_kJ_mol_nm_3\n",
    "\n",
    "ax.scatter(final_epoch, jnp.trace(stress_tensor) / convert_from_GPa_to_kJ_mol_nm_3 / 3.,\n",
    "           marker='x', color='k', label='10 ns')\n",
    "ax1.scatter(x_position, stiffnesses_GPa, marker='x', color='k')\n",
    "\n",
    "fig.legend(loc=\"lower right\", bbox_to_anchor=(1.4, 0.),\n",
    "           bbox_transform=ax1.transAxes)\n",
    "fig.savefig('Stress_stiffness_history.png')\n",
    "fig"
   ]
  }
 ],
 "metadata": {
  "kernelspec": {
   "display_name": "Python 3 (ipykernel)",
   "language": "python",
   "name": "python3"
  },
  "language_info": {
   "codemirror_mode": {
    "name": "ipython",
    "version": 3
   },
   "file_extension": ".py",
   "mimetype": "text/x-python",
   "name": "python",
   "nbconvert_exporter": "python",
   "pygments_lexer": "ipython3",
   "version": "3.8.12"
  }
 },
 "nbformat": 4,
 "nbformat_minor": 1
}